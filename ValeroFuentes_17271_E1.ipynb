{
 "cells": [
  {
   "cell_type": "markdown",
   "metadata": {},
   "source": [
    "# Examen 2: Ejercicios de Python.\n"
   ]
  },
  {
   "cell_type": "markdown",
   "metadata": {},
   "source": [
    "Al momento de responder las preguntas, cerciorense de que les imprima el resultado. "
   ]
  },
  {
   "cell_type": "markdown",
   "metadata": {},
   "source": [
    "### 1.- Dando lista A = [3, 2, 7, 4, 12, 9, 6, 1] desarrolla los siguientes 3 ejercicios.\n",
    "\n",
    "- Imprime la sumatoria de todos los elementos.\n",
    "- Ordenalos de mayor a menor.\n",
    "- Haz una nueva lista pero solo con sus elementos pares."
   ]
  },
  {
   "cell_type": "code",
   "execution_count": 8,
   "metadata": {},
   "outputs": [
    {
     "name": "stdout",
     "output_type": "stream",
     "text": [
      "44\n"
     ]
    }
   ],
   "source": [
    "#(Puntos 5)\n",
    "# Imprime la sumatoria de todos los elementos en a = [3, 2, 7, 4, 12, 9, 6, 1].\n",
    "a = [3,2,7,4,12,9,6,1]\n",
    "suma = sum(a)\n",
    "print(suma)"
   ]
  },
  {
   "cell_type": "code",
   "execution_count": 53,
   "metadata": {},
   "outputs": [
    {
     "data": {
      "text/plain": [
       "[12, 9, 7, 6, 4, 3, 2, 1]"
      ]
     },
     "execution_count": 53,
     "metadata": {},
     "output_type": "execute_result"
    }
   ],
   "source": [
    "#(Puntos 10)\n",
    "# Ordenalos de mayor a menor\n",
    "a = [3,2,7,4,12,9,6,1]\n",
    "a.sort( reverse=True)\n",
    "a\n"
   ]
  },
  {
   "cell_type": "code",
   "execution_count": 82,
   "metadata": {},
   "outputs": [
    {
     "data": {
      "text/plain": [
       "[2, 4, 12, 6]"
      ]
     },
     "execution_count": 82,
     "metadata": {},
     "output_type": "execute_result"
    }
   ],
   "source": [
    "#(Puntos 10)\n",
    "# Haz una nueva lista pero solo con sus elementos pares\n",
    "a = [3,2,7,4,12,9,6,1]\n",
    "b=[]\n",
    "for i in range(len(a)) :\n",
    "        if a[i]%2==0 :\n",
    "            b.append(a[i])\n",
    "b    "
   ]
  },
  {
   "cell_type": "markdown",
   "metadata": {},
   "source": [
    "### 2.- Dale valor a dos variables y realiza 5 funciones que regresen como resultado diferentes operaciones aritmeticas (suma, resta, etc...). "
   ]
  },
  {
   "cell_type": "code",
   "execution_count": 95,
   "metadata": {},
   "outputs": [
    {
     "name": "stdout",
     "output_type": "stream",
     "text": [
      "8\n",
      "2\n",
      "15\n",
      "125\n",
      "1.6666666666666667\n"
     ]
    }
   ],
   "source": [
    "#(Puntos 15)\n",
    "x=5 \n",
    "y=3\n",
    "def sumar (a , b):\n",
    "    suma = a + b\n",
    "    return suma\n",
    "def restar (a , b):\n",
    "    resta = a - b\n",
    "    return resta\n",
    "def multiplicar (a , b):\n",
    "    multiplica = a * b\n",
    "    return multiplica \n",
    "def exponencial (a , b):\n",
    "    eleva = a ** b\n",
    "    return eleva \n",
    "def dividir (a , b):\n",
    "    divide = a / b\n",
    "    return divide \n",
    "\n",
    "c = sumar(x,y)\n",
    "d = restar(x,y)\n",
    "e = multiplicar(x,y)\n",
    "f = exponencial(x,y)\n",
    "g = dividir(x,y)\n",
    "\n",
    "print(c,d,e,f,g, sep =\"\\n\")"
   ]
  },
  {
   "cell_type": "markdown",
   "metadata": {},
   "source": [
    "### 3.- Dada la lista A = [3, 2, 7, 4, 12, 9, 6, 1] y lista B = [13, 16, 21, 34, 18, 17, 11, 10] crea una lista nueva que contenga solo los datos impares de ambas listas."
   ]
  },
  {
   "cell_type": "code",
   "execution_count": 109,
   "metadata": {},
   "outputs": [
    {
     "data": {
      "text/plain": [
       "[3, 7, 9, 1, 13, 21, 17, 11]"
      ]
     },
     "execution_count": 109,
     "metadata": {},
     "output_type": "execute_result"
    }
   ],
   "source": [
    "#(Puntos 15)\n",
    "A = [3,2,7,4,12,9,6,1]\n",
    "B = [13,16,21,34,18,17,11,10]\n",
    "b=[]\n",
    "for i in range(len(A)) :\n",
    "        if A[i]%2!=0 :\n",
    "            b.append(A[i])\n",
    "for j in range(len(B)) :\n",
    "        if B[j]%2!=0 :\n",
    "            b.append(B[j])\n",
    "b    "
   ]
  },
  {
   "cell_type": "markdown",
   "metadata": {},
   "source": [
    "### 4.- Dadas las variables W = 11, X = 17, Y = 32, Z = 65, crea una función que clasifique por grupos de edad (niño, adolecente, adulto, adulto mayor. (Utiliza el elif)"
   ]
  },
  {
   "cell_type": "code",
   "execution_count": 126,
   "metadata": {},
   "outputs": [
    {
     "name": "stdout",
     "output_type": "stream",
     "text": [
      "11 Es Niño\n",
      "17 Es Adolecente\n",
      "32 Es Adulto\n",
      "65 Es Adulto Mayor\n"
     ]
    }
   ],
   "source": [
    "#(Puntos 15)\n",
    "W = 11\n",
    "X = 17\n",
    "Y = 32\n",
    "Z = 65\n",
    "def edades(x):\n",
    "    if x <= 12:\n",
    "        print(x, 'Es Niño')\n",
    "    elif x > 12 and x < 18:\n",
    "        print(x, 'Es Adolecente')\n",
    "    elif x >= 18 and x < 60:\n",
    "        print(x, 'Es Adulto')\n",
    "    else:\n",
    "        print(x, 'Es Adulto Mayor')\n",
    "        \n",
    "edades(W)\n",
    "edades(X)\n",
    "edades(Y)\n",
    "edades(Z)"
   ]
  },
  {
   "cell_type": "markdown",
   "metadata": {},
   "source": [
    "### 5.- Utilizando cualquiera de las condicionales (for, if, while...) imprime los siguientes patrones tal y como aparecen en el comentario, respetando los espacios y los saltos de renglon.\n"
   ]
  },
  {
   "cell_type": "code",
   "execution_count": 162,
   "metadata": {},
   "outputs": [
    {
     "name": "stdout",
     "output_type": "stream",
     "text": [
      "1 \n",
      "\n",
      "2 2 \n",
      "\n",
      "3 3 3 \n",
      "\n",
      "4 4 4 4 \n",
      "\n",
      "5 5 5 5 5 \n",
      "\n"
     ]
    }
   ],
   "source": [
    "#(Puntos 10)\n",
    "#1 \n",
    "#2 2\n",
    "#3 3 3\n",
    "#4 4 4 4\n",
    "#5 5 5 5 5\n",
    "z =[1,2,3,4,5]\n",
    "i=1\n",
    "j=1\n",
    "for i in z :\n",
    "    for j in z :\n",
    "        if j<=i:\n",
    "            print(i, end = ' ')\n",
    "    print(\"\\n\")\n"
   ]
  },
  {
   "cell_type": "code",
   "execution_count": 163,
   "metadata": {},
   "outputs": [
    {
     "name": "stdout",
     "output_type": "stream",
     "text": [
      "5 4 3 2 1 \n",
      "\n",
      "4 3 2 1 \n",
      "\n",
      "3 2 1 \n",
      "\n",
      "2 1 \n",
      "\n",
      "1 \n",
      "\n"
     ]
    }
   ],
   "source": [
    "#(Puntos 15)\n",
    "#5 4 3 2 1 \n",
    "#4 3 2 1\n",
    "#3 2 1 \n",
    "#2 1\n",
    "#1\n",
    "z =[5,4,3,2,1]\n",
    "i=1\n",
    "j=1\n",
    "for i in z :\n",
    "    for j in z :\n",
    "        if j<=i:\n",
    "            print(j, end = ' ')\n",
    "    print(\"\\n\")"
   ]
  },
  {
   "cell_type": "markdown",
   "metadata": {},
   "source": [
    "### 6.- Con la lista A = [3, 2, 7, 4, 12, 9, 6, 1] y el uso de condicionales, imprime una nueva lista con cada uno de los elementos de la lista A, al cuadrado."
   ]
  },
  {
   "cell_type": "code",
   "execution_count": 135,
   "metadata": {},
   "outputs": [
    {
     "name": "stdout",
     "output_type": "stream",
     "text": [
      "[9, 4, 49, 16, 144, 81, 36, 1]\n"
     ]
    }
   ],
   "source": [
    "#(Puntos 10)\n",
    "A = [3,2,7,4,12,9,6,1]\n",
    "C=[]\n",
    "for i in range(len(A)):\n",
    "    C.append( A[i] * A[i])\n",
    "    \n",
    "print(C)\n"
   ]
  },
  {
   "cell_type": "markdown",
   "metadata": {},
   "source": [
    "### (Extra puntos 5.) \n",
    "\n",
    "Conteste los tres puntos para obtener la totalidad de los puntos.\n",
    "*Mencione al menos 3 palabras reservadas para el lenguaje de programación de Python.\n",
    "*Describa la diferencia principal entre las listas y las tuplas en Python.\n",
    "*Describa para que sirve el condicional ELIF.\n"
   ]
  },
  {
   "cell_type": "markdown",
   "metadata": {},
   "source": [
    "1.- True, false, and\n",
    "\n",
    "2.- que en las listas se pueden modificar los valores y en las tuplas no \n",
    "\n",
    "3.-Es una condicion a la cual se entra despues de que la primer condicion no se cumplio "
   ]
  }
 ],
 "metadata": {
  "kernelspec": {
   "display_name": "Python 3",
   "language": "python",
   "name": "python3"
  },
  "language_info": {
   "codemirror_mode": {
    "name": "ipython",
    "version": 3
   },
   "file_extension": ".py",
   "mimetype": "text/x-python",
   "name": "python",
   "nbconvert_exporter": "python",
   "pygments_lexer": "ipython3",
   "version": "3.7.4"
  }
 },
 "nbformat": 4,
 "nbformat_minor": 2
}
